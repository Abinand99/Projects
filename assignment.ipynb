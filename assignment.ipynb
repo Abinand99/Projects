{
  "cells": [
    {
      "cell_type": "markdown",
      "metadata": {
        "id": "view-in-github",
        "colab_type": "text"
      },
      "source": [
        "<a href=\"https://colab.research.google.com/github/Abinand99/Projects/blob/master/assignment.ipynb\" target=\"_parent\"><img src=\"https://colab.research.google.com/assets/colab-badge.svg\" alt=\"Open In Colab\"/></a>"
      ]
    },
    {
      "cell_type": "code",
      "source": [
        "!pip install nselib"
      ],
      "metadata": {
        "colab": {
          "base_uri": "https://localhost:8080/"
        },
        "id": "EN2uQ4vIiry6",
        "outputId": "c53a9c45-5318-4d1f-d457-44af8c34190c"
      },
      "execution_count": null,
      "outputs": [
        {
          "output_type": "stream",
          "name": "stdout",
          "text": [
            "Collecting nselib\n",
            "  Downloading nselib-0.7-py3-none-any.whl (18 kB)\n",
            "Requirement already satisfied: requests in /usr/local/lib/python3.10/dist-packages (from nselib) (2.31.0)\n",
            "Requirement already satisfied: pandas in /usr/local/lib/python3.10/dist-packages (from nselib) (1.5.3)\n",
            "Requirement already satisfied: scipy in /usr/local/lib/python3.10/dist-packages (from nselib) (1.11.4)\n",
            "Requirement already satisfied: python-dateutil>=2.8.1 in /usr/local/lib/python3.10/dist-packages (from pandas->nselib) (2.8.2)\n",
            "Requirement already satisfied: pytz>=2020.1 in /usr/local/lib/python3.10/dist-packages (from pandas->nselib) (2023.3.post1)\n",
            "Requirement already satisfied: numpy>=1.21.0 in /usr/local/lib/python3.10/dist-packages (from pandas->nselib) (1.23.5)\n",
            "Requirement already satisfied: charset-normalizer<4,>=2 in /usr/local/lib/python3.10/dist-packages (from requests->nselib) (3.3.2)\n",
            "Requirement already satisfied: idna<4,>=2.5 in /usr/local/lib/python3.10/dist-packages (from requests->nselib) (3.6)\n",
            "Requirement already satisfied: urllib3<3,>=1.21.1 in /usr/local/lib/python3.10/dist-packages (from requests->nselib) (2.0.7)\n",
            "Requirement already satisfied: certifi>=2017.4.17 in /usr/local/lib/python3.10/dist-packages (from requests->nselib) (2023.11.17)\n",
            "Requirement already satisfied: six>=1.5 in /usr/local/lib/python3.10/dist-packages (from python-dateutil>=2.8.1->pandas->nselib) (1.16.0)\n",
            "Installing collected packages: nselib\n",
            "Successfully installed nselib-0.7\n"
          ]
        }
      ]
    },
    {
      "cell_type": "code",
      "execution_count": null,
      "metadata": {
        "id": "XkTqyuzmip_p"
      },
      "outputs": [],
      "source": [
        "import yfinance as yf\n",
        "import pandas as pd\n",
        "import numpy as np\n",
        "import datetime\n",
        "from datetime import datetime\n",
        "import matplotlib.pyplot as plt\n",
        "from nselib import capital_market\n",
        "\n",
        "class Stock:\n",
        "    def __init__(self, symbol, start_date, end_date):\n",
        "        self.symbol = symbol\n",
        "        self.hp = self.historical_data(start_date, end_date)\n",
        "\n",
        "\n",
        "    def historical_data(self, start_date, end_date):\n",
        "        data = yf.download(self.symbol, start=start_date, end=end_date).dropna()\n",
        "        return data['Close']\n",
        "    # taking the historical data from yfinance\n",
        "\n",
        "    def CurPrice(self, curDate):\n",
        "        return self.hp[curDate]\n",
        "    # this part gives the closing price of the date given curDate using historical_data function\n",
        "\n",
        "\n",
        "    def NDayRet(self, N, curDate):\n",
        "        start_index = self.hp.index.get_loc(curDate) - N\n",
        "        end_index = self.hp.index.get_loc(curDate)+1\n",
        "        returns = self.hp.iloc[start_index:end_index].pct_change()\n",
        "        return returns.sum()\n",
        "    #  gives the N-day returns as on the it takes the start index by geting the location of given date(curDate) minus the given value\n",
        "    #  ending index is name as curdate and plus 1 is added because to get accurate location and iloc is taken\n",
        "\n",
        "    def DailyRet(self, curDate):\n",
        "        return self.hp.pct_change().loc[curDate]\n",
        "    # this fuction gives the daily returns by taking percentage change\n",
        "\n",
        "    def Last30daysPrice(self, curDate):\n",
        "        end_index = self.hp.index.get_loc(curDate)+1\n",
        "        start_index = end_index - 30\n",
        "        return self.hp.iloc[start_index:end_index]\n",
        "    # gives the array of last 30 days prices"
      ]
    },
    {
      "cell_type": "code",
      "execution_count": null,
      "metadata": {
        "id": "2dMBOPe9ip_u"
      },
      "outputs": [],
      "source": [
        "# this is the part of portfolio\n",
        "class portfolio:\n",
        "    def __init__(self,start_date,end_date):\n",
        "        self.start_date=start_date\n",
        "        self.end_date=end_date\n",
        "        self.benchmark_daily_close=None\n",
        "        self.benchmark_monthly_returns=None\n",
        "        self.portfolio_monthly_returns=None\n",
        "        self.benchmark=self.benchmark()\n",
        "        self.strategy=self.strategy()\n",
        "\n",
        "\n",
        "    def benchmark(self):\n",
        "        benchmark = Stock('^NSEI',start_date,end_date)\n",
        "        benchmark_daily_close=benchmark.hp\n",
        "        benchmark_daily_returns= benchmark_daily_close.pct_change().dropna()\n",
        "        benchmark_monthly_returns = benchmark_daily_returns.resample('M').mean()\n",
        "        self.benchmark_monthly_returns=benchmark_monthly_returns\n",
        "        self.benchmark_daily_close=benchmark_daily_returns\n",
        "        return benchmark_daily_returns,benchmark_daily_close\n",
        "    # bennchmark values are taken daily returns,daily close , monthly returns for ploting graph all are taken\n",
        "\n",
        "    def strategy(self):\n",
        "        nifty50=capital_market.nifty50_equity_list()\n",
        "        symbols=nifty50['Symbol']\n",
        "    # this module hel me to get the nifty 50 company name\n",
        "\n",
        "        strategy_selection=pd.DataFrame(index=self.benchmark_monthly_returns.index)\n",
        "        company_daily_close=pd.DataFrame(index=self.benchmark_daily_close.index)\n",
        "    # these are blank data frames thaken for inserting values\n",
        "\n",
        "        for i in symbols:\n",
        "            company_data=Stock(i+'.NS',start_date,end_date)\n",
        "            company_daily_close[i]=company_data.hp\n",
        "            company_daily_returns=company_data.hp.pct_change().dropna()\n",
        "            company_daily_positive_returns=company_daily_returns[company_daily_returns > 0]\n",
        "            company_monthly_returns = company_daily_returns.resample('M').mean()\n",
        "            company_monthly_positive_returns = company_monthly_returns[company_monthly_returns > 0]\n",
        "            strategy_selection[i] =company_monthly_positive_returns\n",
        "    # this loop takes the closing value of individual companies and put it to blank dataframe\n",
        "    # takes monthly and daily positive returns of the individual company\n",
        "\n",
        "        portfolio_monthly_returns=strategy_selection.mean(axis=1).dropna()\n",
        "        self.portfolio_monthly_returns=portfolio_monthly_returns\n",
        "        return company_daily_positive_returns,portfolio_monthly_returns\n",
        "\n",
        "\n",
        "    def plot_graph(self):\n",
        "        plt.plot(self.benchmark_monthly_returns.index,self.benchmark_monthly_returns)\n",
        "        plt.plot(self.portfolio_monthly_returns.index,self.portfolio_monthly_returns)\n",
        "        plt.title(\"Equity Curves\")\n",
        "        plt.xlabel(\"Date\")\n",
        "        plt.ylabel(\"Returns\")\n",
        "        plt.legend()\n",
        "        plt.show()\n",
        "    # this part gives the equiy curve of stratrgy and nifty50 returns\n",
        "\n",
        "    def summary_performance(self,sb):\n",
        "        returns,close=sb\n",
        "        years=(self.benchmark_daily_close.index[-1]-self.benchmark_daily_close.index[0]).days/365.25\n",
        "        means=returns.mean()\n",
        "        standard_deviation=np.std(returns)\n",
        "        sharp_ratio=(np.sqrt(252))*(means/standard_deviation)\n",
        "        volatility=(np.sqrt(252))*standard_deviation*100\n",
        "        cagr=(((close.iloc[-1])/(close.iloc[0]))**(1/years))-1\n",
        "        print('sharp=',sharp_ratio)\n",
        "        print('volatility=',volatility)\n",
        "        print('cagr=',cagr)\n",
        "    # perfomence is taken"
      ]
    },
    {
      "cell_type": "code",
      "execution_count": null,
      "metadata": {
        "id": "tqC8nCiyip_w"
      },
      "outputs": [],
      "source": [
        "# start_date='2023-01-01'\n",
        "# end_date='2024-01-01'\n",
        "# n=5"
      ]
    },
    {
      "cell_type": "code",
      "execution_count": null,
      "metadata": {
        "colab": {
          "base_uri": "https://localhost:8080/"
        },
        "id": "m_Mq_eV-ip_x",
        "outputId": "b2a19719-966d-4c7c-b693-e6ad778d0d32"
      },
      "outputs": [
        {
          "name": "stdout",
          "output_type": "stream",
          "text": [
            "Enter a starting date (YYYY-MM-DD): 2023-01-01\n",
            "Enter a ending date (YYYY-MM-DD):2024-01-01\n",
            "Enter the number of days return:5\n"
          ]
        }
      ],
      "source": [
        "start_date = input(\"Enter a starting date (YYYY-MM-DD): \")\n",
        "end_date=input(\"Enter a ending date (YYYY-MM-DD):\")\n",
        "n=int(input('Enter the number of days return:'))\n",
        "try:\n",
        "    start_date = datetime.strptime(start_date, \"%Y-%m-%d\")\n",
        "    end_date=datetime.strptime(end_date, \"%Y-%m-%d\")\n",
        "except ValueError:\n",
        "    print(\"Invalid date format. Please use YYYY-MM-DD.\")"
      ]
    },
    {
      "cell_type": "code",
      "execution_count": null,
      "metadata": {
        "colab": {
          "base_uri": "https://localhost:8080/"
        },
        "id": "_3-vmgkVip_z",
        "outputId": "ecc53db5-f145-4d17-83e5-95766c169c1c"
      },
      "outputs": [
        {
          "output_type": "stream",
          "name": "stdout",
          "text": [
            "\r[*********************100%%**********************]  1 of 1 completed\n",
            "Enter a date (YYYY-MM-DD):2023-4-03\n",
            "CLosing price of given date: 166.1699981689453\n",
            "Daily returns= 0.00770166355044366\n",
            "Last 30 days price: \n",
            " Date\n",
            "2023-02-21    148.479996\n",
            "2023-02-22    148.910004\n",
            "2023-02-23    149.399994\n",
            "2023-02-24    146.710007\n",
            "2023-02-27    147.919998\n",
            "2023-02-28    147.410004\n",
            "2023-03-01    145.309998\n",
            "2023-03-02    145.910004\n",
            "2023-03-03    151.029999\n",
            "2023-03-06    153.830002\n",
            "2023-03-07    151.600006\n",
            "2023-03-08    152.869995\n",
            "2023-03-09    150.589996\n",
            "2023-03-10    148.500000\n",
            "2023-03-13    150.470001\n",
            "2023-03-14    152.589996\n",
            "2023-03-15    152.990005\n",
            "2023-03-16    155.850006\n",
            "2023-03-17    155.000000\n",
            "2023-03-20    157.399994\n",
            "2023-03-21    159.279999\n",
            "2023-03-22    157.830002\n",
            "2023-03-23    158.929993\n",
            "2023-03-24    160.250000\n",
            "2023-03-27    158.279999\n",
            "2023-03-28    157.649994\n",
            "2023-03-29    160.770004\n",
            "2023-03-30    162.360001\n",
            "2023-03-31    164.899994\n",
            "2023-04-03    166.169998\n",
            "Name: Close, dtype: float64\n",
            "5  days retuns:  0.04904617443596637\n"
          ]
        }
      ],
      "source": [
        "a=Stock('AAPL',start_date,end_date)\n",
        "date=input(\"Enter a date (YYYY-MM-DD):\")\n",
        "print('CLosing price of given date:',a.CurPrice(date))\n",
        "print(\"Daily returns=\",a.DailyRet(date))\n",
        "print('Last 30 days price:','\\n',a.Last30daysPrice(date))\n",
        "print(n,' days retuns: ',a.NDayRet(n,date))\n"
      ]
    },
    {
      "cell_type": "code",
      "execution_count": null,
      "metadata": {
        "colab": {
          "base_uri": "https://localhost:8080/"
        },
        "id": "GlVa9ZxUip_2",
        "outputId": "7eb32605-28cb-411a-d6bd-90d1ada42545"
      },
      "outputs": [
        {
          "output_type": "stream",
          "name": "stdout",
          "text": [
            "[*********************100%%**********************]  1 of 1 completed\n",
            "[*********************100%%**********************]  1 of 1 completed\n",
            "[*********************100%%**********************]  1 of 1 completed\n",
            "[*********************100%%**********************]  1 of 1 completed\n",
            "[*********************100%%**********************]  1 of 1 completed\n",
            "[*********************100%%**********************]  1 of 1 completed\n",
            "[*********************100%%**********************]  1 of 1 completed\n",
            "[*********************100%%**********************]  1 of 1 completed\n",
            "[*********************100%%**********************]  1 of 1 completed\n",
            "[*********************100%%**********************]  1 of 1 completed\n",
            "[*********************100%%**********************]  1 of 1 completed\n",
            "[*********************100%%**********************]  1 of 1 completed\n",
            "[*********************100%%**********************]  1 of 1 completed\n",
            "[*********************100%%**********************]  1 of 1 completed\n",
            "[*********************100%%**********************]  1 of 1 completed\n",
            "[*********************100%%**********************]  1 of 1 completed\n",
            "[*********************100%%**********************]  1 of 1 completed\n",
            "[*********************100%%**********************]  1 of 1 completed\n",
            "[*********************100%%**********************]  1 of 1 completed\n",
            "[*********************100%%**********************]  1 of 1 completed\n",
            "[*********************100%%**********************]  1 of 1 completed\n",
            "[*********************100%%**********************]  1 of 1 completed\n",
            "[*********************100%%**********************]  1 of 1 completed\n",
            "[*********************100%%**********************]  1 of 1 completed\n",
            "[*********************100%%**********************]  1 of 1 completed\n",
            "[*********************100%%**********************]  1 of 1 completed\n",
            "[*********************100%%**********************]  1 of 1 completed\n",
            "[*********************100%%**********************]  1 of 1 completed\n",
            "[*********************100%%**********************]  1 of 1 completed\n",
            "[*********************100%%**********************]  1 of 1 completed\n",
            "[*********************100%%**********************]  1 of 1 completed\n",
            "[*********************100%%**********************]  1 of 1 completed\n",
            "[*********************100%%**********************]  1 of 1 completed\n",
            "[*********************100%%**********************]  1 of 1 completed\n",
            "[*********************100%%**********************]  1 of 1 completed\n",
            "[*********************100%%**********************]  1 of 1 completed\n",
            "[*********************100%%**********************]  1 of 1 completed\n",
            "[*********************100%%**********************]  1 of 1 completed\n",
            "[*********************100%%**********************]  1 of 1 completed\n",
            "[*********************100%%**********************]  1 of 1 completed\n",
            "[*********************100%%**********************]  1 of 1 completed\n",
            "[*********************100%%**********************]  1 of 1 completed\n",
            "[*********************100%%**********************]  1 of 1 completed\n",
            "[*********************100%%**********************]  1 of 1 completed\n",
            "[*********************100%%**********************]  1 of 1 completed\n",
            "[*********************100%%**********************]  1 of 1 completed\n",
            "[*********************100%%**********************]  1 of 1 completed\n",
            "[*********************100%%**********************]  1 of 1 completed\n",
            "[*********************100%%**********************]  1 of 1 completed\n",
            "[*********************100%%**********************]  1 of 1 completed\n",
            "[*********************100%%**********************]  1 of 1 completed\n"
          ]
        }
      ],
      "source": [
        "c=portfolio(start_date,end_date)\n"
      ]
    },
    {
      "cell_type": "code",
      "execution_count": null,
      "metadata": {
        "colab": {
          "base_uri": "https://localhost:8080/",
          "height": 489
        },
        "id": "oEfvb4XZip_3",
        "outputId": "984d0cc9-6715-4f08-ef5c-8f50ece6c896"
      },
      "outputs": [
        {
          "output_type": "stream",
          "name": "stderr",
          "text": [
            "WARNING:matplotlib.legend:No artists with labels found to put in legend.  Note that artists whose label start with an underscore are ignored when legend() is called with no argument.\n"
          ]
        },
        {
          "output_type": "display_data",
          "data": {
            "text/plain": [
              "<Figure size 640x480 with 1 Axes>"
            ],
            "image/png": "[encoded data removed]"
          },
          "metadata": {}
        }
      ],
      "source": [
        "c.plot_graph()"
      ]
    },
    {
      "cell_type": "code",
      "execution_count": null,
      "metadata": {
        "colab": {
          "base_uri": "https://localhost:8080/"
        },
        "id": "HpvFvvkQip_4",
        "outputId": "221a2de5-581c-42e5-e82d-702e36fad28f"
      },
      "outputs": [
        {
          "output_type": "stream",
          "name": "stdout",
          "text": [
            "Perfomence summary of Strategy:\n",
            "sharp= 16.1228592262546\n",
            "volatility= 16.004625270469813\n",
            "cagr= 1.670121552459177\n"
          ]
        }
      ],
      "source": [
        "print('Perfomence summary of Strategy:')\n",
        "c.summary_performance(c.strategy)"
      ]
    },
    {
      "cell_type": "code",
      "execution_count": null,
      "metadata": {
        "colab": {
          "base_uri": "https://localhost:8080/"
        },
        "id": "-IM0DKyMip_4",
        "outputId": "90688321-f3c4-409f-815c-e13fc99cf174"
      },
      "outputs": [
        {
          "output_type": "stream",
          "name": "stdout",
          "text": [
            "Perfomence summary of benchmark:\n",
            "sharp= 1.9190212452786042\n",
            "volatility= 9.805446957220216\n",
            "cagr= 0.19729519579552934\n"
          ]
        }
      ],
      "source": [
        "print('Perfomence summary of benchmark:')\n",
        "c.summary_performance(c.benchmark)"
      ]
    },
    {
      "cell_type": "markdown",
      "metadata": {
        "id": "IMG1Gn5lip_5"
      },
      "source": [
        "Performance can be mesured here"
      ]
    }
  ],
  "metadata": {
    "kernelspec": {
      "display_name": "Python 3",
      "language": "python",
      "name": "python3"
    },
    "language_info": {
      "codemirror_mode": {
        "name": "ipython",
        "version": 3
      },
      "file_extension": ".py",
      "mimetype": "text/x-python",
      "name": "python",
      "nbconvert_exporter": "python",
      "pygments_lexer": "ipython3",
      "version": "3.11.6"
    },
    "colab": {
      "provenance": [],
      "include_colab_link": true
    }
  },
  "nbformat": 4,
  "nbformat_minor": 0
}