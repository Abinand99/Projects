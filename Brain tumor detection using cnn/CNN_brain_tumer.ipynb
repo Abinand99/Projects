{
  "nbformat": 4,
  "nbformat_minor": 0,
  "metadata": {
    "colab": {
      "provenance": [],
      "gpuType": "T4"
    },
    "kernelspec": {
      "name": "python3",
      "display_name": "Python 3"
    },
    "language_info": {
      "name": "python"
    },
    "accelerator": "GPU"
  },
  "cells": [
    {
      "cell_type": "code",
      "execution_count": 1,
      "metadata": {
        "id": "dgvQ9d1Ka4uP"
      },
      "outputs": [],
      "source": [
        "import pandas as pd\n",
        "from skimage.io import imread\n",
        "from skimage.transform import resize\n",
        "from keras.models import Sequential\n",
        "from keras.layers import Dense,Conv2D,MaxPool2D,Flatten\n",
        "import os"
      ]
    },
    {
      "cell_type": "code",
      "source": [
        "from google.colab import drive\n",
        "drive.mount('/content/drive')"
      ],
      "metadata": {
        "colab": {
          "base_uri": "https://localhost:8080/"
        },
        "id": "HAfsNKipQNCe",
        "outputId": "c33706d2-3a97-4c47-ea26-2ca1cdd54288"
      },
      "execution_count": 2,
      "outputs": [
        {
          "output_type": "stream",
          "name": "stdout",
          "text": [
            "Drive already mounted at /content/drive; to attempt to forcibly remount, call drive.mount(\"/content/drive\", force_remount=True).\n"
          ]
        }
      ]
    },
    {
      "cell_type": "code",
      "source": [
        "os.listdir('/content/drive/MyDrive/Brain Tumor/Training')"
      ],
      "metadata": {
        "colab": {
          "base_uri": "https://localhost:8080/"
        },
        "id": "u6vNQMlectx8",
        "outputId": "16c63220-9777-4830-ff59-bb5e7dbc7dc9"
      },
      "execution_count": 3,
      "outputs": [
        {
          "output_type": "execute_result",
          "data": {
            "text/plain": [
              "['notumor', 'meningioma', 'glioma', 'pituitary']"
            ]
          },
          "metadata": {},
          "execution_count": 3
        }
      ]
    },
    {
      "cell_type": "code",
      "source": [
        "os.listdir('/content/drive/MyDrive/Brain Tumor/Testing')"
      ],
      "metadata": {
        "colab": {
          "base_uri": "https://localhost:8080/"
        },
        "id": "k8NBtVObdEP9",
        "outputId": "7797c476-680a-4eac-b6c1-3f3e6ea0432c"
      },
      "execution_count": 4,
      "outputs": [
        {
          "output_type": "execute_result",
          "data": {
            "text/plain": [
              "['pituitary', 'notumor', 'glioma', 'meningioma']"
            ]
          },
          "metadata": {},
          "execution_count": 4
        }
      ]
    },
    {
      "cell_type": "code",
      "source": [
        "datadir='/content/drive/MyDrive/Brain Tumor/Training'"
      ],
      "metadata": {
        "id": "FZwuCNRGerhL"
      },
      "execution_count": 5,
      "outputs": []
    },
    {
      "cell_type": "code",
      "source": [
        "X_train=[]\n",
        "y_train=[]\n",
        "categories=['pituitary', 'notumor', 'glioma', 'meningioma']\n",
        "for i in categories:\n",
        "  print('loading category............',i)\n",
        "  path=os.path.join(datadir,i)\n",
        "  # print(path)\n",
        "  images=os.listdir(path)\n",
        "#  print(img_p)\n",
        "  for j in images:\n",
        "    imgpath=os.path.join(path,j)\n",
        "    # print(img)\n",
        "    img_array=imread(imgpath)\n",
        "    img_resized=resize(img_array,(150,150,1))\n",
        "    X_train.append(img_resized)\n",
        "    y_train.append(categories.index(i))\n",
        "  print('Loaded category')"
      ],
      "metadata": {
        "colab": {
          "base_uri": "https://localhost:8080/"
        },
        "id": "HKSUgWjmeyiH",
        "outputId": "551e3e5c-5836-489f-ce4b-22a0b08ba574"
      },
      "execution_count": 6,
      "outputs": [
        {
          "output_type": "stream",
          "name": "stdout",
          "text": [
            "loading category............ pituitary\n",
            "Loaded category\n",
            "loading category............ notumor\n",
            "Loaded category\n",
            "loading category............ glioma\n",
            "Loaded category\n",
            "loading category............ meningioma\n",
            "Loaded category\n"
          ]
        }
      ]
    },
    {
      "cell_type": "code",
      "source": [
        "datadir1='/content/drive/MyDrive/Brain Tumor/Testing'"
      ],
      "metadata": {
        "id": "0lrPkyudlwRM"
      },
      "execution_count": 7,
      "outputs": []
    },
    {
      "cell_type": "code",
      "source": [
        "X_test=[]\n",
        "y_test=[]\n",
        "for i in categories:\n",
        "  print('loading category............',i)\n",
        "  path=os.path.join(datadir1,i)\n",
        "  # print(path)\n",
        "  images=os.listdir(path)\n",
        "#  print(img_p)\n",
        "  for j in images:\n",
        "    imgpath=os.path.join(path,j)\n",
        "    # print(img)\n",
        "    img_array=imread(imgpath)\n",
        "    img_resized=resize(img_array,(150,150,1))\n",
        "    X_test.append(img_resized)\n",
        "    y_test.append(categories.index(i))\n",
        "  print('Loaded category')"
      ],
      "metadata": {
        "colab": {
          "base_uri": "https://localhost:8080/"
        },
        "id": "GQikMsIFgVuv",
        "outputId": "e9152431-9452-435f-f35d-29b91a1d1fef"
      },
      "execution_count": 8,
      "outputs": [
        {
          "output_type": "stream",
          "name": "stdout",
          "text": [
            "loading category............ pituitary\n",
            "Loaded category\n",
            "loading category............ notumor\n",
            "Loaded category\n",
            "loading category............ glioma\n",
            "Loaded category\n",
            "loading category............ meningioma\n",
            "Loaded category\n"
          ]
        }
      ]
    },
    {
      "cell_type": "code",
      "source": [
        "import numpy as np\n",
        "X_train=np.array(X_train)\n",
        "X_test=np.array(X_test)\n",
        "y_train=np.array(y_train)\n",
        "y_test=np.array(y_test)"
      ],
      "metadata": {
        "id": "BTum6vXTom1x"
      },
      "execution_count": 9,
      "outputs": []
    },
    {
      "cell_type": "code",
      "source": [
        "X_train.shape"
      ],
      "metadata": {
        "colab": {
          "base_uri": "https://localhost:8080/"
        },
        "id": "uk70KEAdpIbA",
        "outputId": "c191b5c1-ef14-4e6a-b7fc-1af1457d2400"
      },
      "execution_count": 10,
      "outputs": [
        {
          "output_type": "execute_result",
          "data": {
            "text/plain": [
              "(5529, 150, 150, 1)"
            ]
          },
          "metadata": {},
          "execution_count": 10
        }
      ]
    },
    {
      "cell_type": "code",
      "source": [
        "X_test.shape"
      ],
      "metadata": {
        "colab": {
          "base_uri": "https://localhost:8080/"
        },
        "id": "2eZngSMbpUaJ",
        "outputId": "e6d98920-bed2-44b5-9166-11a42f26ed59"
      },
      "execution_count": 11,
      "outputs": [
        {
          "output_type": "execute_result",
          "data": {
            "text/plain": [
              "(1311, 150, 150, 1)"
            ]
          },
          "metadata": {},
          "execution_count": 11
        }
      ]
    },
    {
      "cell_type": "code",
      "source": [
        "y_train.shape"
      ],
      "metadata": {
        "colab": {
          "base_uri": "https://localhost:8080/"
        },
        "id": "Ko1l1PZ2qthn",
        "outputId": "4ef172e5-5977-4424-f5ef-908b3f89729d"
      },
      "execution_count": 12,
      "outputs": [
        {
          "output_type": "execute_result",
          "data": {
            "text/plain": [
              "(5529,)"
            ]
          },
          "metadata": {},
          "execution_count": 12
        }
      ]
    },
    {
      "cell_type": "code",
      "source": [
        "y_test.shape"
      ],
      "metadata": {
        "colab": {
          "base_uri": "https://localhost:8080/"
        },
        "id": "k6LkY3hhqx8c",
        "outputId": "b67f69ba-70cb-4b2a-8b99-f7e64b48d0b3"
      },
      "execution_count": 13,
      "outputs": [
        {
          "output_type": "execute_result",
          "data": {
            "text/plain": [
              "(1311,)"
            ]
          },
          "metadata": {},
          "execution_count": 13
        }
      ]
    },
    {
      "cell_type": "code",
      "source": [
        "from keras.src.engine import sequential\n",
        "model=Sequential()\n",
        "model.add(Conv2D(32,(3,3),input_shape=(150,150,1),activation='relu'))\n",
        "model.add(MaxPool2D(2,2))\n",
        "model.add(Conv2D(28,(3,3),activation='relu'))\n",
        "model.add(MaxPool2D(2,2))\n",
        "model.add(Flatten())\n",
        "model.add(Dense(100,activation='relu'))\n",
        "model.add(Dense(4,activation='softmax'))"
      ],
      "metadata": {
        "id": "iDD1TUJjq5Xa"
      },
      "execution_count": 18,
      "outputs": []
    },
    {
      "cell_type": "code",
      "source": [
        "model.compile(optimizer='adam',loss='sparse_categorical_crossentropy',metrics=['accuracy'])"
      ],
      "metadata": {
        "id": "8Ud46NzFtrVM"
      },
      "execution_count": 15,
      "outputs": []
    },
    {
      "cell_type": "code",
      "source": [],
      "metadata": {
        "id": "s9hBnPM-uIhx"
      },
      "execution_count": 15,
      "outputs": []
    },
    {
      "cell_type": "code",
      "source": [
        "model.fit(X_train,y_train,batch_size=32,epochs=10)"
      ],
      "metadata": {
        "colab": {
          "base_uri": "https://localhost:8080/"
        },
        "id": "lV947gwduCWG",
        "outputId": "945a0c2e-f7a0-49b5-cc9e-21b904a540d3"
      },
      "execution_count": 16,
      "outputs": [
        {
          "output_type": "stream",
          "name": "stdout",
          "text": [
            "Epoch 1/10\n",
            "173/173 [==============================] - 6s 16ms/step - loss: 0.7184 - accuracy: 0.7506\n",
            "Epoch 2/10\n",
            "173/173 [==============================] - 3s 16ms/step - loss: 0.2521 - accuracy: 0.9027\n",
            "Epoch 3/10\n",
            "173/173 [==============================] - 3s 16ms/step - loss: 0.1294 - accuracy: 0.9573\n",
            "Epoch 4/10\n",
            "173/173 [==============================] - 3s 15ms/step - loss: 0.0643 - accuracy: 0.9819\n",
            "Epoch 5/10\n",
            "173/173 [==============================] - 2s 14ms/step - loss: 0.0332 - accuracy: 0.9948\n",
            "Epoch 6/10\n",
            "173/173 [==============================] - 2s 14ms/step - loss: 0.0194 - accuracy: 0.9967\n",
            "Epoch 7/10\n",
            "173/173 [==============================] - 2s 14ms/step - loss: 0.0093 - accuracy: 0.9989\n",
            "Epoch 8/10\n",
            "173/173 [==============================] - 3s 15ms/step - loss: 0.0054 - accuracy: 0.9998\n",
            "Epoch 9/10\n",
            "173/173 [==============================] - 3s 16ms/step - loss: 0.0027 - accuracy: 0.9998\n",
            "Epoch 10/10\n",
            "173/173 [==============================] - 3s 15ms/step - loss: 0.0015 - accuracy: 1.0000\n"
          ]
        },
        {
          "output_type": "execute_result",
          "data": {
            "text/plain": [
              "<keras.src.callbacks.History at 0x7afe47367e20>"
            ]
          },
          "metadata": {},
          "execution_count": 16
        }
      ]
    },
    {
      "cell_type": "code",
      "source": [
        "loss,accuracy=model.evaluate(X_test,y_test)\n",
        "print('LOSS:',loss)\n",
        "print('ACCURACY:',accuracy)"
      ],
      "metadata": {
        "colab": {
          "base_uri": "https://localhost:8080/"
        },
        "id": "LuC0S16WU2fC",
        "outputId": "e47f5693-1a60-441d-d5c1-6844bee09912"
      },
      "execution_count": 17,
      "outputs": [
        {
          "output_type": "stream",
          "name": "stdout",
          "text": [
            "41/41 [==============================] - 0s 7ms/step - loss: 0.2137 - accuracy: 0.9527\n",
            "LOSS: 0.2136879861354828\n",
            "ACCURACY: 0.952707827091217\n"
          ]
        }
      ]
    }
  ]
}